{
 "cells": [
  {
   "cell_type": "code",
   "execution_count": 16,
   "id": "c2ab2107",
   "metadata": {},
   "outputs": [
    {
     "name": "stdout",
     "output_type": "stream",
     "text": [
      "3.9.7\n"
     ]
    }
   ],
   "source": [
    "from platform import python_version\n",
    "print(python_version())"
   ]
  },
  {
   "cell_type": "code",
   "execution_count": 17,
   "id": "4536e72d",
   "metadata": {},
   "outputs": [],
   "source": [
    "import random\n",
    "import re\n",
    "\n",
    "# generates e, d, N\n",
    "def generateKeys(keysize):\n",
    "    p = generatePrime(keysize)\n",
    "    q = generatePrime(keysize)\n",
    "    N = p*q # used as the modulus for both the public and private keys\n",
    "    lambdaN = lcm(p-1, q-1) # carmichael's function\n",
    "    \n",
    "    # generating e and checking whether e is coprime with lambdaN\n",
    "    while True:\n",
    "        e = random.randrange(pow(2, keysize-1), pow(2, keysize)) # 1 < e <= lambdaN\n",
    "        if (isCoprime(e, lambdaN)):\n",
    "            break\n",
    "    # the built-in pow() function performs binary exponentiation, which is an effective method of exponentiation\n",
    "\n",
    "    # d is the modular inverse of e with respect to lambdaN\n",
    "    d = modularInv(e, lambdaN)\n",
    "\n",
    "    print('p:', p)\n",
    "    print('q:', q)\n",
    "    return e, d, N\n",
    "  \n",
    "\n",
    "# returns random prime number of size specified in keysize\n",
    "def generatePrime(keysize):\n",
    "    while True:\n",
    "        number = random.randrange(pow(2, keysize-1), pow(2, keysize))\n",
    "        if (isPrime(number)):\n",
    "            return number\n",
    "\n",
    "        \n",
    "# computes greatest common divisor (euclidean algorithm)\n",
    "def gcd(n, m):        \n",
    "    while m: # stops when m == 0\n",
    "        n, m = m, n % m \n",
    "    return n\n",
    "\n",
    "\n",
    "# computes least common multiple \n",
    "def lcm(n, m):\n",
    "    return abs(n*m) // gcd(n, m)\n",
    "  \n",
    "\n",
    "# returns true if the number is prime\n",
    "def isPrime(number):\n",
    "    if number == 0 or number == 1: # 0 and 1 aren't prime\n",
    "        return False\n",
    "\n",
    "    # prime numbers up to 997\n",
    "    low_primes = [2, 3, 5, 7, 11, 13, 17, 19, 23, 29, 31, 37, 41, 43, 47, 53, 59, 61, 67, 71, 73, 79, 83, 89, 97, 101, 103, 107, 109, 113, 127, 131, 137, 139, 149, 151, 157, 163, 167, 173, 179, 181, 191, 193, 197, 199, 211, 223, 227, 229, 233, 239, 241, 251, 257, 263, 269, 271, 277, 281, 283, 293, 307, 311, 313, 317, 331, 337, 347, 349, 353, 359, 367, 373, 379, 383, 389, 397, 401, 409, 419, 421, 431, 433, 439, 443, 449, 457, 461, 463, 467, 479, 487, 491, 499, 503, 509, 521, 523, 541, 547, 557, 563, 569, 571, 577, 587, 593, 599, 601, 607, 613, 617, 619, 631, 641, 643, 647, 653, 659, 661, 673, 677, 683, 691, 701, 709, 719, 727, 733, 739, 743, 751, 757, 761, 769, 773, 787, 797, 809, 811, 821, 823, 827, 829, 839, 853, 857, 859, 863, 877, 881, 883, 887, 907, 911, 919, 929, 937, 941, 947, 953, 967, 971, 977, 983, 991, 997]\n",
    "    if number in low_primes: # true if in the list\n",
    "        return True\n",
    "    for prime in low_primes:\n",
    "        if number % prime == 0: # false if divided by low prime\n",
    "            return False\n",
    "    \n",
    "    # perform miller-rabin primality test\n",
    "    c = number - 1\n",
    "    while c % 2 == 0:\n",
    "        c /= 2\n",
    "    for i in range(256): # prove that it's not a prime 256 times\n",
    "        if not millerRabin(number, c):\n",
    "            return False\n",
    "\n",
    "    return True\n",
    "\n",
    "\n",
    "# returns true if n and m are coprime (gcd is 1)\n",
    "def isCoprime(n, m):\n",
    "    return gcd(n, m) == 1\n",
    "\n",
    "\n",
    "# modular multiplicative inverse\n",
    "def modularInv(n, m):\n",
    "    return pow(n, -1, m)\n",
    "\n",
    "\n",
    "# performs miller-rabin primality test\n",
    "def millerRabin(n, d):\n",
    "    a = random.randint(2, (n-2)-2)\n",
    "    x = pow(a, int(d), n) # a^d % n\n",
    "    if x == 1 or x == n - 1:\n",
    "        return True\n",
    "\n",
    "    # square x\n",
    "    while d != n - 1:\n",
    "        x = pow(x, 2, n)\n",
    "        d *= 2\n",
    "        \n",
    "        if x == 1:\n",
    "            return False\n",
    "        elif x == n - 1:\n",
    "            return True\n",
    "    \n",
    "    return False\n",
    "\n",
    "\n",
    "# encrypts the number using public key\n",
    "def encryptNumber(e, N, number):\n",
    "    return pow(number, e, N)\n",
    "\n",
    "\n",
    "# decrypts the number using private key\n",
    "def decryptNumber(e, N, number):\n",
    "    return pow(number, d, N)\n",
    "\n",
    "\n",
    "# encrypts each character in the text using public key\n",
    "def encryptText(e, N, text):\n",
    "    cipher = ''\n",
    "    for c in text:\n",
    "        m = ord(c) # returns an integer representing the unicode character\n",
    "        cipher += str(pow(m, e, N)) + ' '\n",
    "\n",
    "    return cipher\n",
    "\n",
    "\n",
    "# decrypts the text using private key\n",
    "def decryptText(d, N, cipher):\n",
    "    text = ''\n",
    "    parts = cipher.split()\n",
    "    for part in parts:\n",
    "        if part:\n",
    "            c = int(part)\n",
    "            text += chr(pow(c, d, N))\n",
    "\n",
    "    return text\n",
    "\n",
    "\n",
    "# reads and preprocesses large texts\n",
    "def readText(path):\n",
    "    text = open(path, 'r').read().splitlines()\n",
    "    text = ' '.join(text)\n",
    "    text = re.sub(r'[^а-яё ЁА-Я.!?:;,''\"\"]+', '', text)\n",
    "    return text"
   ]
  },
  {
   "cell_type": "markdown",
   "id": "273e2122",
   "metadata": {},
   "source": [
    " "
   ]
  },
  {
   "cell_type": "code",
   "execution_count": 18,
   "id": "909a6dc2",
   "metadata": {},
   "outputs": [
    {
     "name": "stdout",
     "output_type": "stream",
     "text": [
      "p: 3776157001\n",
      "q: 3446309437\n",
      "\n",
      "Public key:  (13013805508139918437, 3852660863)\n",
      "Private key: (13013805508139918437, 956706622723319927)\n"
     ]
    }
   ],
   "source": [
    "keysize = 32\n",
    "e, d, N = generateKeys(keysize)\n",
    "\n",
    "M1 = 52387\n",
    "M2 = readText('data/war_and_peace_book_one.txt')\n",
    "\n",
    "print('\\nPublic key:  ('+str(N)+', '+str(e)+')')\n",
    "print('Private key: ('+str(N)+', '+str(d)+')')"
   ]
  },
  {
   "cell_type": "markdown",
   "id": "28cfa52f",
   "metadata": {},
   "source": [
    "#### Encrypting and decrypting number (M1)"
   ]
  },
  {
   "cell_type": "code",
   "execution_count": 19,
   "id": "0ee8e3bf",
   "metadata": {},
   "outputs": [
    {
     "name": "stdout",
     "output_type": "stream",
     "text": [
      "Message:\n",
      " 52387 \n",
      "\n",
      "Encrypted message:\n",
      " 12197138761772152820 \n",
      "\n",
      "Decrypted message:\n",
      " 52387\n"
     ]
    }
   ],
   "source": [
    "enc1 = encryptNumber(e, N, M1)\n",
    "dec1 = decryptNumber(d, N, enc1)\n",
    "\n",
    "print('Message:\\n', M1, '\\n')\n",
    "print('Encrypted message:\\n', enc1, '\\n')\n",
    "print('Decrypted message:\\n', dec1)"
   ]
  },
  {
   "cell_type": "markdown",
   "id": "370358cc",
   "metadata": {},
   "source": [
    "#### Encrypting and decrypting large text (M2)"
   ]
  },
  {
   "cell_type": "code",
   "execution_count": 20,
   "id": "324574d9",
   "metadata": {},
   "outputs": [
    {
     "name": "stdout",
     "output_type": "stream",
     "text": [
      "Message lenght: 1873323 symbols\n",
      "\n",
      "Message:\n",
      "  Ну что, князь, Генуя и Лукка стали не больше как поместья, поместья фамилии Буонапарте. Нет, я вам вперед говорю, если вы мне не скажете, что у нас война, если вы позволите себе защищать все гадости, все ужасы этого антихриста право, я верю, что он антихрист,  я вас больше не знаю, вы уже не друг мой, вы уже не мой верный раб, как вы говорите. Ну, здравствуйте, здравствуйте. Я вижу, что я вас пугаю, садитесь и рассказывайте.    Так говорила в июле  года известная Анна Павловна Шерер, фрейлина и приближенная императрицы Марии Федоровны, встречая важного и чиновного князя Василия, первым приехавшего на ее вечер. Анна Павловна кашляла несколько дней, у нее был грипп, как она говорила грипп был тогда новое слово, употреблявшееся только редкими...\n",
      "\n",
      "Encrypted message:\n",
      " 1657167418456094253 8390975939088843239 11419843204313694498 1657167418456094253 5632208126829900466 8250482030326861151 1948004649538278953 7946237607957196854 1657167418456094253 5623111989890809893 1336730976599276990 10163157379295632663 3074666762791924981 8401078915382905219 7946237607957196854 1657167418456094253 11485080474647397258 10813816542526081045 1336730976599276990 11419843204313694498 10163157379295632663 1657167418456094253 3518165500898917699 1657167418456094253 6229188242076559774 11419843204313694498 5623111989890809893 5623111989890809893 12391719630325040128 1657167418456094253 10382005304624021906 8250482030326861151 12391719630325040128 10697692631656969452 3518165500898917699 1657167418456094253 1336730976599276990...\n",
      "\n",
      "Decrypted message:\n",
      "  Ну что, князь, Генуя и Лукка стали не больше как поместья, поместья фамилии Буонапарте. Нет, я вам вперед говорю, если вы мне не скажете, что у нас война, если вы позволите себе защищать все гадости, все ужасы этого антихриста право, я верю, что он антихрист,  я вас больше не знаю, вы уже не друг мой, вы уже не мой верный раб, как вы говорите. Ну, здравствуйте, здравствуйте. Я вижу, что я вас пугаю, садитесь и рассказывайте.    Так говорила в июле  года известная Анна Павловна Шерер, фрейлина и приближенная императрицы Марии Федоровны, встречая важного и чиновного князя Василия, первым приехавшего на ее вечер. Анна Павловна кашляла несколько дней, у нее был грипп, как она говорила грипп был тогда новое слово, употреблявшееся только редкими...\n",
      "\n",
      "CPU times: user 31.9 s, sys: 63.2 ms, total: 32 s\n",
      "Wall time: 32 s\n"
     ]
    }
   ],
   "source": [
    "%%time\n",
    "\n",
    "enc2 = encryptText(e, N, M2)\n",
    "dec2 = decryptText(d, N, enc2)\n",
    "\n",
    "print('Message lenght:', len(M2), 'symbols\\n')\n",
    "print('Message:\\n', M2[:750]+'...\\n')\n",
    "print('Encrypted message:\\n', enc2[:750]+'...\\n')\n",
    "print('Decrypted message:\\n', dec2[:750]+'...\\n')"
   ]
  },
  {
   "cell_type": "markdown",
   "id": "63b29bef",
   "metadata": {},
   "source": [
    "#### Links\n",
    "* [RSA - Wikipedia](https://en.wikipedia.org/wiki/RSA_(cryptosystem))\n",
    "* [Miller–Rabin primality test](https://en.wikipedia.org/wiki/Miller%E2%80%93Rabin_primality_test)\n",
    "* [Coprime integers](https://en.wikipedia.org/wiki/Coprime_integers)\n",
    "* [Modular multiplicative inverse](https://en.wikipedia.org/wiki/Modular_multiplicative_inverse)\n",
    "* [Euclidean algorithm](https://en.wikipedia.org/wiki/Euclidean_algorithm)\n",
    "* [Carmichael function](https://en.wikipedia.org/wiki/Carmichael_function)\n",
    "* [Modular arithmetic](https://en.wikipedia.org/wiki/Modular_arithmetic)\n",
    "* [Exponentiation by squaring](https://en.wikipedia.org/wiki/Exponentiation_by_squaring)\n",
    "* [Implementation of the built-in pow() function](https://github.com/python/cpython/blob/109fc2792a490ee5cd8a423e17d415fbdedec5c8/Objects/longobject.c#L4244-L4447)"
   ]
  },
  {
   "cell_type": "code",
   "execution_count": null,
   "id": "771bbf76",
   "metadata": {},
   "outputs": [],
   "source": []
  }
 ],
 "metadata": {
  "kernelspec": {
   "display_name": "Python 3 (ipykernel)",
   "language": "python",
   "name": "python3"
  },
  "language_info": {
   "codemirror_mode": {
    "name": "ipython",
    "version": 3
   },
   "file_extension": ".py",
   "mimetype": "text/x-python",
   "name": "python",
   "nbconvert_exporter": "python",
   "pygments_lexer": "ipython3",
   "version": "3.9.7"
  }
 },
 "nbformat": 4,
 "nbformat_minor": 5
}
