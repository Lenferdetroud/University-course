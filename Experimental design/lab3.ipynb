{
  "nbformat": 4,
  "nbformat_minor": 0,
  "metadata": {
    "colab": {
      "provenance": []
    },
    "kernelspec": {
      "name": "python3",
      "display_name": "Python 3"
    },
    "language_info": {
      "name": "python"
    }
  },
  "cells": [
    {
      "cell_type": "code",
      "execution_count": null,
      "metadata": {
        "id": "0OhpjAN6-xnQ",
        "colab": {
          "base_uri": "https://localhost:8080/"
        },
        "outputId": "03aa6c0d-94bc-4e1a-e827-ad317a5236e8"
      },
      "outputs": [
        {
          "output_type": "stream",
          "name": "stdout",
          "text": [
            "(40, 2)\n",
            "6.657117440162568e-08\n",
            "[[-1.         -1.        ]\n",
            " [-1.         -0.93333333]\n",
            " [-1.         -0.4       ]\n",
            " [-1.         -0.33333333]\n",
            " [-1.         -0.26666667]\n",
            " [-1.          0.4       ]\n",
            " [-1.          0.46666667]\n",
            " [-1.          0.93333333]\n",
            " [-1.          1.        ]\n",
            " [-0.93333333 -1.        ]\n",
            " [-0.93333333  1.        ]\n",
            " [-0.46666667 -1.        ]\n",
            " [-0.46666667 -0.46666667]\n",
            " [-0.46666667 -0.4       ]\n",
            " [-0.46666667  0.4       ]\n",
            " [-0.46666667  0.46666667]\n",
            " [-0.4        -1.        ]\n",
            " [-0.4         1.        ]\n",
            " [-0.33333333  1.        ]\n",
            " [-0.26666667  1.        ]\n",
            " [ 0.26666667 -1.        ]\n",
            " [ 0.33333333 -1.        ]\n",
            " [ 0.33333333  1.        ]\n",
            " [ 0.4        -1.        ]\n",
            " [ 0.4         0.46666667]\n",
            " [ 0.4         1.        ]\n",
            " [ 0.46666667 -0.46666667]\n",
            " [ 0.46666667 -0.4       ]\n",
            " [ 0.46666667  0.46666667]\n",
            " [ 0.93333333 -1.        ]\n",
            " [ 0.93333333  1.        ]\n",
            " [ 1.         -1.        ]\n",
            " [ 1.         -0.93333333]\n",
            " [ 1.         -0.4       ]\n",
            " [ 1.         -0.33333333]\n",
            " [ 1.         -0.26666667]\n",
            " [ 1.          0.4       ]\n",
            " [ 1.          0.46666667]\n",
            " [ 1.          0.93333333]\n",
            " [ 1.          1.        ]]\n"
          ]
        }
      ],
      "source": [
        "import numpy as np\n",
        "import pandas as pd\n",
        "import matplotlib.pyplot as plt\n",
        "import scipy.linalg as lng\n",
        "\n",
        "def f(x1, x2): \n",
        "    return np.array([1, x1, x2, x1 * x2, x1 ** 2, x2 ** 2, x1 ** 3, x2 ** 3, x1 ** 2 * x2, x1 * x2 ** 2]).reshape(10, 1)\n",
        "\n",
        "def fill_x(): \n",
        "  x = np.zeros((n, 2))\n",
        "  for i in range(0, m):\n",
        "    for j in range(0, m):\n",
        "      x[i*m + j][0] = -1 + i * 2.0/(m-1)\n",
        "      x[i*m + j][1] = -1 + j * 2.0/(m-1)\n",
        "  return x\n",
        "\n",
        "def count_M(x, p, n):\n",
        "  M = np.zeros((10, 10))\n",
        "  for i in range(n):\n",
        "    M += p[i] * np.dot(  f(x[i][0], x[i][1]), f(x[i][0], x[i][1]).T  )\n",
        "  return M\n",
        "\n",
        "def count_D(M):\n",
        "  return np.linalg.inv(M)\n",
        "\n",
        "m = 31\n",
        "n = m * m\n",
        "s = n\n",
        "p = np.ones(n)\n",
        "p = p * (1.0/n)\n",
        "counter = 0\n",
        "x = fill_x()\n",
        "M = count_M(x, p, n)\n",
        "D = count_D(M)\n",
        "\n",
        "for N in [40]:\n",
        "  a = f(x[0][0], x[0][1]).T @ D @ f(x[0][0], x[0][1])\n",
        "  while s > N:\n",
        "    a = f(x[0][0], x[0][1]).T @ D @ f(x[0][0], x[0][1])\n",
        "    d = 0\n",
        "    for i in range(0, n, 1):\n",
        "      if f(x[i][0], x[i][1]).T @ D @ f(x[i][0], x[i][1]) < a:\n",
        "        a = f(x[i][0], x[i][1]).T @ D @ f(x[i][0], x[i][1])\n",
        "        d = i\n",
        "    s -= 1\n",
        "    x = np.delete(x, d, axis=0) \n",
        "    p = np.delete(p, d, axis=0)\n",
        "    n -= 1\n",
        "    p = np.ones(n) / n\n",
        "    M = count_M(x, p, n)\n",
        "    D = count_D(M)\n",
        "  print(x.shape)\n",
        "  print(lng.det(M))\n",
        "  print(x)\n",
        "\n",
        "#df2 = pd.DataFrame({'x1': x[:, 0], 'x2': x[:, 1]})\n",
        "#print(df2)"
      ]
    },
    {
      "cell_type": "code",
      "source": [],
      "metadata": {
        "id": "BOc6ueBs_FTX"
      },
      "execution_count": null,
      "outputs": []
    },
    {
      "cell_type": "code",
      "source": [],
      "metadata": {
        "id": "hJlIV8FG2sIY"
      },
      "execution_count": null,
      "outputs": []
    },
    {
      "cell_type": "code",
      "source": [],
      "metadata": {
        "id": "wAss4O_x_7Pz"
      },
      "execution_count": null,
      "outputs": []
    }
  ]
}