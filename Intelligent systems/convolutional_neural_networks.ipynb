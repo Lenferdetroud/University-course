{
  "nbformat": 4,
  "nbformat_minor": 0,
  "metadata": {
    "colab": {
      "provenance": []
    },
    "kernelspec": {
      "name": "python3",
      "display_name": "Python 3"
    },
    "language_info": {
      "name": "python"
    }
  },
  "cells": [
    {
      "cell_type": "code",
      "execution_count": null,
      "metadata": {
        "id": "q8QyiWLp9ns6"
      },
      "outputs": [],
      "source": [
        "from keras.datasets import cifar10\n",
        "from keras.models import Sequential\n",
        "from keras.layers import Dense, Dropout, Flatten, BatchNormalization, Activation\n",
        "from keras.layers.convolutional import Conv2D, MaxPooling2D\n",
        "from keras.constraints import maxnorm\n",
        "from keras.utils import np_utils\n",
        "from matplotlib import pyplot as plt\n",
        "from google.colab import files\n",
        "from PIL import Image\n",
        "import numpy as np\n",
        "\n",
        "def upload_image():\n",
        "    uploaded = files.upload()\n",
        "    for fn in uploaded.keys():\n",
        "        print(fn)\n",
        "        img = Image.open(fn)\n",
        "        img = img.resize((32, 32))\n",
        "        img_array = np.array(img)\n",
        "        img_array = np.expand_dims(img_array, axis=0)\n",
        "        img_array = img_array.astype('float32')\n",
        "        img_array /= np.max(X_train)\n",
        "        return img_array"
      ]
    },
    {
      "cell_type": "code",
      "source": [
        "(X_train, y_train), (X_test, y_test) = cifar10.load_data() \n",
        "num_train, depth, height, width = X_train.shape\n",
        "num_test = X_test.shape[0] \n",
        "class_num = np.unique(y_train).shape[0]\n",
        "X_train = X_train.astype('float32')\n",
        "X_test = X_test.astype('float32')\n",
        "X_train /= np.max(X_train)\n",
        "X_test /= np.max(X_train)\n",
        "\n",
        "y_train = np_utils.to_categorical(y_train, class_num)\n",
        "y_test = np_utils.to_categorical(y_test, class_num)"
      ],
      "metadata": {
        "id": "zahTcOtFMhHO"
      },
      "execution_count": null,
      "outputs": []
    },
    {
      "cell_type": "code",
      "source": [
        "# quadruple the number of neurons to improve accuracy\n",
        "\n",
        "model1 = Sequential()\n",
        "model1.add(Conv2D(8, (3, 3), input_shape=X_train.shape[1:], padding='same'))\n",
        "model1.add(Activation('relu'))\n",
        "model1.add(Dropout(0.2))\n",
        "model1.add(BatchNormalization())\n",
        "model1.add(Conv2D(16, (3, 3), padding='same'))\n",
        "model1.add(Activation('relu'))\n",
        "model1.add(MaxPooling2D(pool_size=(2, 2)))\n",
        "model1.add(Dropout(0.2))\n",
        "model1.add(BatchNormalization())\n",
        "model1.add(Conv2D(16, (3, 3), padding='same'))\n",
        "model1.add(Activation('relu'))\n",
        "model1.add(MaxPooling2D(pool_size=(2, 2)))\n",
        "model1.add(Dropout(0.2))\n",
        "model1.add(BatchNormalization())\n",
        "model1.add(Conv2D(32, (3, 3), padding='same'))\n",
        "model1.add(Activation('relu'))\n",
        "model1.add(Dropout(0.2))\n",
        "model1.add(BatchNormalization())\n",
        "model1.add(Flatten())\n",
        "model1.add(Dropout(0.2))\n",
        "model1.add(Dense(64, kernel_constraint=maxnorm(3)))\n",
        "model1.add(Activation('relu'))\n",
        "model1.add(Dropout(0.2))\n",
        "model1.add(BatchNormalization())\n",
        "model1.add(Dense(32, kernel_constraint=maxnorm(3)))\n",
        "model1.add(Activation('relu'))\n",
        "model1.add(Dropout(0.2))\n",
        "model1.add(BatchNormalization())\n",
        "model1.add(Dense(class_num))\n",
        "model1.add(Activation('softmax'))\n",
        "\n",
        "model2 = Sequential()\n",
        "model2.add(Conv2D(8, (3, 3), input_shape=X_train.shape[1:], padding='same'))\n",
        "model2.add(Activation('relu'))\n",
        "model2.add(BatchNormalization())\n",
        "model2.add(Conv2D(16, (3, 3), padding='same'))\n",
        "model2.add(Activation('relu'))\n",
        "model2.add(MaxPooling2D(pool_size=(2, 2)))\n",
        "model2.add(BatchNormalization())\n",
        "model2.add(Conv2D(16, (3, 3), padding='same'))\n",
        "model2.add(Activation('relu'))\n",
        "model2.add(MaxPooling2D(pool_size=(2, 2)))\n",
        "model2.add(BatchNormalization())\n",
        "model2.add(Conv2D(32, (3, 3), padding='same'))\n",
        "model2.add(Activation('relu'))\n",
        "model2.add(BatchNormalization())\n",
        "model2.add(Flatten())\n",
        "model2.add(Dense(64, kernel_constraint=maxnorm(3)))\n",
        "model2.add(Activation('relu'))\n",
        "model2.add(BatchNormalization())\n",
        "model2.add(Dense(32, kernel_constraint=maxnorm(3)))\n",
        "model2.add(Activation('relu'))\n",
        "model2.add(BatchNormalization())\n",
        "model2.add(Dense(class_num))\n",
        "model2.add(Activation('softmax'))\n",
        "\n",
        "model3 = Sequential()\n",
        "model3.add(Conv2D(8, (3, 3), input_shape=X_train.shape[1:], padding='same'))\n",
        "model3.add(Activation('relu'))\n",
        "model3.add(Dropout(0.5))\n",
        "model3.add(BatchNormalization())\n",
        "model3.add(Conv2D(16, (3, 3), padding='same'))\n",
        "model3.add(Activation('relu'))\n",
        "model3.add(MaxPooling2D(pool_size=(2, 2)))\n",
        "model3.add(Dropout(0.5))\n",
        "model3.add(BatchNormalization())\n",
        "model3.add(Conv2D(16, (3, 3), padding='same'))\n",
        "model3.add(Activation('relu'))\n",
        "model3.add(MaxPooling2D(pool_size=(2, 2)))\n",
        "model3.add(Dropout(0.5))\n",
        "model3.add(BatchNormalization())\n",
        "model3.add(Conv2D(32, (3, 3), padding='same'))\n",
        "model3.add(Activation('relu'))\n",
        "model3.add(Dropout(0.5))\n",
        "model3.add(BatchNormalization())\n",
        "model3.add(Flatten())\n",
        "model3.add(Dropout(0.5))\n",
        "model3.add(Dense(64, kernel_constraint=maxnorm(3)))\n",
        "model3.add(Activation('relu'))\n",
        "model3.add(Dropout(0.5))\n",
        "model3.add(BatchNormalization())\n",
        "model3.add(Dense(32, kernel_constraint=maxnorm(3)))\n",
        "model3.add(Activation('relu'))\n",
        "model3.add(Dropout(0.5))\n",
        "model3.add(BatchNormalization())\n",
        "model3.add(Dense(class_num))\n",
        "model3.add(Activation('softmax'))\n",
        "\n",
        "epochs = 10\n",
        "optimizer = 'adam'"
      ],
      "metadata": {
        "id": "wGufMXZyMh0q"
      },
      "execution_count": null,
      "outputs": []
    },
    {
      "cell_type": "code",
      "source": [
        "%%time\n",
        "\n",
        "model1.compile(loss='categorical_crossentropy', optimizer=optimizer, metrics=['accuracy'])\n",
        "model1.fit(X_train, y_train, validation_data=(X_test, y_test), epochs=epochs, batch_size=128)"
      ],
      "metadata": {
        "colab": {
          "base_uri": "https://localhost:8080/"
        },
        "id": "rdQ1p9rYZpOA",
        "outputId": "aa3511c4-7dc5-49f9-ace8-482d2433d30f"
      },
      "execution_count": null,
      "outputs": [
        {
          "output_type": "stream",
          "name": "stdout",
          "text": [
            "Epoch 1/10\n",
            "391/391 [==============================] - 108s 268ms/step - loss: 1.9498 - accuracy: 0.3055 - val_loss: 83.2855 - val_accuracy: 0.1885\n",
            "Epoch 2/10\n",
            "391/391 [==============================] - 106s 271ms/step - loss: 1.5628 - accuracy: 0.4337 - val_loss: 116.8196 - val_accuracy: 0.2246\n",
            "Epoch 3/10\n",
            "391/391 [==============================] - 105s 270ms/step - loss: 1.4392 - accuracy: 0.4821 - val_loss: 119.4746 - val_accuracy: 0.2495\n",
            "Epoch 4/10\n",
            "391/391 [==============================] - 106s 271ms/step - loss: 1.3466 - accuracy: 0.5196 - val_loss: 97.8971 - val_accuracy: 0.2284\n",
            "Epoch 5/10\n",
            "391/391 [==============================] - 106s 271ms/step - loss: 1.2705 - accuracy: 0.5505 - val_loss: 110.3391 - val_accuracy: 0.2382\n",
            "Epoch 6/10\n",
            "391/391 [==============================] - 107s 273ms/step - loss: 1.2182 - accuracy: 0.5675 - val_loss: 68.2474 - val_accuracy: 0.3015\n",
            "Epoch 7/10\n",
            "391/391 [==============================] - 106s 272ms/step - loss: 1.1764 - accuracy: 0.5894 - val_loss: 53.1061 - val_accuracy: 0.3631\n",
            "Epoch 8/10\n",
            "391/391 [==============================] - 106s 270ms/step - loss: 1.1294 - accuracy: 0.6055 - val_loss: 56.4383 - val_accuracy: 0.3223\n",
            "Epoch 9/10\n",
            "391/391 [==============================] - 106s 271ms/step - loss: 1.1001 - accuracy: 0.6189 - val_loss: 65.7920 - val_accuracy: 0.3130\n",
            "Epoch 10/10\n",
            "391/391 [==============================] - 105s 268ms/step - loss: 1.0746 - accuracy: 0.6259 - val_loss: 84.0595 - val_accuracy: 0.2945\n",
            "CPU times: user 27min 13s, sys: 2min 38s, total: 29min 52s\n",
            "Wall time: 18min 26s\n"
          ]
        },
        {
          "output_type": "execute_result",
          "data": {
            "text/plain": [
              "<keras.callbacks.History at 0x7f7700bccfa0>"
            ]
          },
          "metadata": {},
          "execution_count": 86
        }
      ]
    },
    {
      "cell_type": "code",
      "source": [
        "%%time\n",
        "\n",
        "model2.compile(loss='categorical_crossentropy', optimizer=optimizer, metrics=['accuracy'])\n",
        "model2.fit(X_train, y_train, validation_data=(X_test, y_test), epochs=epochs, batch_size=128)"
      ],
      "metadata": {
        "colab": {
          "base_uri": "https://localhost:8080/"
        },
        "id": "leYCVnroZwOa",
        "outputId": "3d80c9be-f487-4936-fe4c-1b6df3d6b302"
      },
      "execution_count": null,
      "outputs": [
        {
          "output_type": "stream",
          "name": "stdout",
          "text": [
            "Epoch 1/10\n",
            "391/391 [==============================] - 95s 234ms/step - loss: 1.4028 - accuracy: 0.5031 - val_loss: 197.4307 - val_accuracy: 0.1489\n",
            "Epoch 2/10\n",
            "391/391 [==============================] - 92s 235ms/step - loss: 1.0027 - accuracy: 0.6494 - val_loss: 481.6994 - val_accuracy: 0.1630\n",
            "Epoch 3/10\n",
            "391/391 [==============================] - 92s 234ms/step - loss: 0.8441 - accuracy: 0.7024 - val_loss: 578.3418 - val_accuracy: 0.1783\n",
            "Epoch 4/10\n",
            "391/391 [==============================] - 93s 238ms/step - loss: 0.7301 - accuracy: 0.7425 - val_loss: 482.4449 - val_accuracy: 0.1440\n",
            "Epoch 5/10\n",
            "391/391 [==============================] - 92s 234ms/step - loss: 0.6468 - accuracy: 0.7735 - val_loss: 619.1192 - val_accuracy: 0.1836\n",
            "Epoch 6/10\n",
            "391/391 [==============================] - 91s 233ms/step - loss: 0.5721 - accuracy: 0.8009 - val_loss: 619.0215 - val_accuracy: 0.1659\n",
            "Epoch 7/10\n",
            "391/391 [==============================] - 92s 236ms/step - loss: 0.5080 - accuracy: 0.8216 - val_loss: 693.5923 - val_accuracy: 0.1757\n",
            "Epoch 8/10\n",
            "391/391 [==============================] - 92s 236ms/step - loss: 0.4477 - accuracy: 0.8439 - val_loss: 701.3527 - val_accuracy: 0.1456\n",
            "Epoch 9/10\n",
            "391/391 [==============================] - 93s 237ms/step - loss: 0.3973 - accuracy: 0.8629 - val_loss: 877.5027 - val_accuracy: 0.1673\n",
            "Epoch 10/10\n",
            "391/391 [==============================] - 90s 231ms/step - loss: 0.3503 - accuracy: 0.8798 - val_loss: 1025.9758 - val_accuracy: 0.1384\n",
            "CPU times: user 23min 34s, sys: 2min 16s, total: 25min 51s\n",
            "Wall time: 15min 26s\n"
          ]
        },
        {
          "output_type": "execute_result",
          "data": {
            "text/plain": [
              "<keras.callbacks.History at 0x7f76f4f45fd0>"
            ]
          },
          "metadata": {},
          "execution_count": 87
        }
      ]
    },
    {
      "cell_type": "code",
      "source": [
        "%%time\n",
        "\n",
        "model3.compile(loss='categorical_crossentropy', optimizer=optimizer, metrics=['accuracy'])\n",
        "model3.fit(X_train, y_train, validation_data=(X_test, y_test), epochs=epochs, batch_size=128)"
      ],
      "metadata": {
        "colab": {
          "base_uri": "https://localhost:8080/"
        },
        "id": "lhrEZ6BQZx0f",
        "outputId": "b629902f-fd63-4b0d-f3e8-4ee411f6729f"
      },
      "execution_count": null,
      "outputs": [
        {
          "output_type": "stream",
          "name": "stdout",
          "text": [
            "Epoch 1/10\n",
            "391/391 [==============================] - 138s 274ms/step - loss: 2.3263 - accuracy: 0.1649 - val_loss: 216.2248 - val_accuracy: 0.0999\n",
            "Epoch 2/10\n",
            "391/391 [==============================] - 107s 274ms/step - loss: 2.0538 - accuracy: 0.2209 - val_loss: 160.7009 - val_accuracy: 0.1127\n",
            "Epoch 3/10\n",
            "391/391 [==============================] - 107s 274ms/step - loss: 1.9245 - accuracy: 0.2637 - val_loss: 150.8953 - val_accuracy: 0.1379\n",
            "Epoch 4/10\n",
            "391/391 [==============================] - 107s 274ms/step - loss: 1.8514 - accuracy: 0.2866 - val_loss: 99.8747 - val_accuracy: 0.1780\n",
            "Epoch 5/10\n",
            "391/391 [==============================] - 107s 273ms/step - loss: 1.7963 - accuracy: 0.3085 - val_loss: 100.4308 - val_accuracy: 0.1942\n",
            "Epoch 6/10\n",
            "391/391 [==============================] - 113s 288ms/step - loss: 1.7649 - accuracy: 0.3245 - val_loss: 51.6900 - val_accuracy: 0.2388\n",
            "Epoch 7/10\n",
            "391/391 [==============================] - 107s 274ms/step - loss: 1.7359 - accuracy: 0.3409 - val_loss: 46.2255 - val_accuracy: 0.2644\n",
            "Epoch 8/10\n",
            "391/391 [==============================] - 106s 270ms/step - loss: 1.7153 - accuracy: 0.3515 - val_loss: 71.3420 - val_accuracy: 0.2204\n",
            "Epoch 9/10\n",
            "391/391 [==============================] - 109s 278ms/step - loss: 1.6983 - accuracy: 0.3654 - val_loss: 63.4027 - val_accuracy: 0.2403\n",
            "Epoch 10/10\n",
            "391/391 [==============================] - 109s 278ms/step - loss: 1.6787 - accuracy: 0.3736 - val_loss: 66.4670 - val_accuracy: 0.2422\n",
            "CPU times: user 27min 28s, sys: 2min 48s, total: 30min 17s\n",
            "Wall time: 18min 53s\n"
          ]
        },
        {
          "output_type": "execute_result",
          "data": {
            "text/plain": [
              "<keras.callbacks.History at 0x7f770597fb80>"
            ]
          },
          "metadata": {},
          "execution_count": 88
        }
      ]
    },
    {
      "cell_type": "code",
      "source": [
        "scores1, scores2, scores3 = model1.evaluate(X_test, y_test, verbose=0), model2.evaluate(X_test, y_test, verbose=0), model3.evaluate(X_test, y_test, verbose=0)\n",
        "print(\"Model 1 accuracy (dropout = 0.2): %.2f%%\" % (scores1[1]*100))\n",
        "print(\"Model 2 accuracy (without dropout): %.2f%%\" % (scores2[1]*100))\n",
        "print(\"Model 3 accuracy (dropout = 0.5): %.2f%%\" % (scores3[1]*100))"
      ],
      "metadata": {
        "colab": {
          "base_uri": "https://localhost:8080/"
        },
        "id": "cfzfKp8dM6TO",
        "outputId": "0e2d6d06-b155-4ab7-f9d7-ef6d24563dcb"
      },
      "execution_count": null,
      "outputs": [
        {
          "output_type": "stream",
          "name": "stdout",
          "text": [
            "Model 1 accuracy (dropout = 0.2): 29.45%\n",
            "Model 2 accuracy (without dropout): 13.84%\n",
            "Model 3 accuracy (dropout = 0.5): 24.22%\n"
          ]
        }
      ]
    },
    {
      "cell_type": "code",
      "source": [
        "custom_image = upload_image()\n",
        "\n",
        "fig = plt.figure(figsize=(3, 3))\n",
        "plt.imshow((custom_image[0]).astype(np.uint8))\n",
        "\n",
        "prediction1, prediction2, prediction3 = model1.predict(custom_image).argmax(), model2.predict(custom_image).argmax(), model3.predict(custom_image).argmax()\n",
        "\n",
        "if prediction1 == 5:\n",
        "    print('Model 1 prediction:', prediction1, \"(this is a dog!)\")\n",
        "else:\n",
        "    print('Model 1 prediction:', prediction1)\n",
        "\n",
        "if prediction1 == 5:\n",
        "    print('Model 2 prediction:', prediction2, \"(this is a dog!)\")\n",
        "else:\n",
        "    print('Model 2 prediction:', prediction2)\n",
        "    \n",
        "if prediction1 == 5:\n",
        "    print('Model 3 prediction:', prediction3, \"(this is a dog!)\")\n",
        "else:\n",
        "    print('Model 3 prediction:', prediction3)"
      ],
      "metadata": {
        "colab": {
          "base_uri": "https://localhost:8080/",
          "height": 396
        },
        "id": "ib6hdLEUN62A",
        "outputId": "0fefe9c8-dccf-4222-ba25-f4dcc22531bd"
      },
      "execution_count": null,
      "outputs": [
        {
          "output_type": "display_data",
          "data": {
            "text/plain": [
              "<IPython.core.display.HTML object>"
            ],
            "text/html": [
              "\n",
              "     <input type=\"file\" id=\"files-cc3e0a7a-60f2-4adb-8f03-aed35e53c71b\" name=\"files[]\" multiple disabled\n",
              "        style=\"border:none\" />\n",
              "     <output id=\"result-cc3e0a7a-60f2-4adb-8f03-aed35e53c71b\">\n",
              "      Upload widget is only available when the cell has been executed in the\n",
              "      current browser session. Please rerun this cell to enable.\n",
              "      </output>\n",
              "      <script>// Copyright 2017 Google LLC\n",
              "//\n",
              "// Licensed under the Apache License, Version 2.0 (the \"License\");\n",
              "// you may not use this file except in compliance with the License.\n",
              "// You may obtain a copy of the License at\n",
              "//\n",
              "//      http://www.apache.org/licenses/LICENSE-2.0\n",
              "//\n",
              "// Unless required by applicable law or agreed to in writing, software\n",
              "// distributed under the License is distributed on an \"AS IS\" BASIS,\n",
              "// WITHOUT WARRANTIES OR CONDITIONS OF ANY KIND, either express or implied.\n",
              "// See the License for the specific language governing permissions and\n",
              "// limitations under the License.\n",
              "\n",
              "/**\n",
              " * @fileoverview Helpers for google.colab Python module.\n",
              " */\n",
              "(function(scope) {\n",
              "function span(text, styleAttributes = {}) {\n",
              "  const element = document.createElement('span');\n",
              "  element.textContent = text;\n",
              "  for (const key of Object.keys(styleAttributes)) {\n",
              "    element.style[key] = styleAttributes[key];\n",
              "  }\n",
              "  return element;\n",
              "}\n",
              "\n",
              "// Max number of bytes which will be uploaded at a time.\n",
              "const MAX_PAYLOAD_SIZE = 100 * 1024;\n",
              "\n",
              "function _uploadFiles(inputId, outputId) {\n",
              "  const steps = uploadFilesStep(inputId, outputId);\n",
              "  const outputElement = document.getElementById(outputId);\n",
              "  // Cache steps on the outputElement to make it available for the next call\n",
              "  // to uploadFilesContinue from Python.\n",
              "  outputElement.steps = steps;\n",
              "\n",
              "  return _uploadFilesContinue(outputId);\n",
              "}\n",
              "\n",
              "// This is roughly an async generator (not supported in the browser yet),\n",
              "// where there are multiple asynchronous steps and the Python side is going\n",
              "// to poll for completion of each step.\n",
              "// This uses a Promise to block the python side on completion of each step,\n",
              "// then passes the result of the previous step as the input to the next step.\n",
              "function _uploadFilesContinue(outputId) {\n",
              "  const outputElement = document.getElementById(outputId);\n",
              "  const steps = outputElement.steps;\n",
              "\n",
              "  const next = steps.next(outputElement.lastPromiseValue);\n",
              "  return Promise.resolve(next.value.promise).then((value) => {\n",
              "    // Cache the last promise value to make it available to the next\n",
              "    // step of the generator.\n",
              "    outputElement.lastPromiseValue = value;\n",
              "    return next.value.response;\n",
              "  });\n",
              "}\n",
              "\n",
              "/**\n",
              " * Generator function which is called between each async step of the upload\n",
              " * process.\n",
              " * @param {string} inputId Element ID of the input file picker element.\n",
              " * @param {string} outputId Element ID of the output display.\n",
              " * @return {!Iterable<!Object>} Iterable of next steps.\n",
              " */\n",
              "function* uploadFilesStep(inputId, outputId) {\n",
              "  const inputElement = document.getElementById(inputId);\n",
              "  inputElement.disabled = false;\n",
              "\n",
              "  const outputElement = document.getElementById(outputId);\n",
              "  outputElement.innerHTML = '';\n",
              "\n",
              "  const pickedPromise = new Promise((resolve) => {\n",
              "    inputElement.addEventListener('change', (e) => {\n",
              "      resolve(e.target.files);\n",
              "    });\n",
              "  });\n",
              "\n",
              "  const cancel = document.createElement('button');\n",
              "  inputElement.parentElement.appendChild(cancel);\n",
              "  cancel.textContent = 'Cancel upload';\n",
              "  const cancelPromise = new Promise((resolve) => {\n",
              "    cancel.onclick = () => {\n",
              "      resolve(null);\n",
              "    };\n",
              "  });\n",
              "\n",
              "  // Wait for the user to pick the files.\n",
              "  const files = yield {\n",
              "    promise: Promise.race([pickedPromise, cancelPromise]),\n",
              "    response: {\n",
              "      action: 'starting',\n",
              "    }\n",
              "  };\n",
              "\n",
              "  cancel.remove();\n",
              "\n",
              "  // Disable the input element since further picks are not allowed.\n",
              "  inputElement.disabled = true;\n",
              "\n",
              "  if (!files) {\n",
              "    return {\n",
              "      response: {\n",
              "        action: 'complete',\n",
              "      }\n",
              "    };\n",
              "  }\n",
              "\n",
              "  for (const file of files) {\n",
              "    const li = document.createElement('li');\n",
              "    li.append(span(file.name, {fontWeight: 'bold'}));\n",
              "    li.append(span(\n",
              "        `(${file.type || 'n/a'}) - ${file.size} bytes, ` +\n",
              "        `last modified: ${\n",
              "            file.lastModifiedDate ? file.lastModifiedDate.toLocaleDateString() :\n",
              "                                    'n/a'} - `));\n",
              "    const percent = span('0% done');\n",
              "    li.appendChild(percent);\n",
              "\n",
              "    outputElement.appendChild(li);\n",
              "\n",
              "    const fileDataPromise = new Promise((resolve) => {\n",
              "      const reader = new FileReader();\n",
              "      reader.onload = (e) => {\n",
              "        resolve(e.target.result);\n",
              "      };\n",
              "      reader.readAsArrayBuffer(file);\n",
              "    });\n",
              "    // Wait for the data to be ready.\n",
              "    let fileData = yield {\n",
              "      promise: fileDataPromise,\n",
              "      response: {\n",
              "        action: 'continue',\n",
              "      }\n",
              "    };\n",
              "\n",
              "    // Use a chunked sending to avoid message size limits. See b/62115660.\n",
              "    let position = 0;\n",
              "    do {\n",
              "      const length = Math.min(fileData.byteLength - position, MAX_PAYLOAD_SIZE);\n",
              "      const chunk = new Uint8Array(fileData, position, length);\n",
              "      position += length;\n",
              "\n",
              "      const base64 = btoa(String.fromCharCode.apply(null, chunk));\n",
              "      yield {\n",
              "        response: {\n",
              "          action: 'append',\n",
              "          file: file.name,\n",
              "          data: base64,\n",
              "        },\n",
              "      };\n",
              "\n",
              "      let percentDone = fileData.byteLength === 0 ?\n",
              "          100 :\n",
              "          Math.round((position / fileData.byteLength) * 100);\n",
              "      percent.textContent = `${percentDone}% done`;\n",
              "\n",
              "    } while (position < fileData.byteLength);\n",
              "  }\n",
              "\n",
              "  // All done.\n",
              "  yield {\n",
              "    response: {\n",
              "      action: 'complete',\n",
              "    }\n",
              "  };\n",
              "}\n",
              "\n",
              "scope.google = scope.google || {};\n",
              "scope.google.colab = scope.google.colab || {};\n",
              "scope.google.colab._files = {\n",
              "  _uploadFiles,\n",
              "  _uploadFilesContinue,\n",
              "};\n",
              "})(self);\n",
              "</script> "
            ]
          },
          "metadata": {}
        },
        {
          "output_type": "stream",
          "name": "stdout",
          "text": [
            "Saving EthicalWelldocumentedBilby-mobile.jpg to EthicalWelldocumentedBilby-mobile (4).jpg\n",
            "EthicalWelldocumentedBilby-mobile.jpg\n",
            "1/1 [==============================] - 0s 26ms/step\n",
            "1/1 [==============================] - 0s 25ms/step\n",
            "1/1 [==============================] - 0s 24ms/step\n",
            "Model 1 prediction: 6\n",
            "Model 2 prediction: 0\n",
            "Model 3 prediction: 0\n"
          ]
        },
        {
          "output_type": "display_data",
          "data": {
            "text/plain": [
              "<Figure size 216x216 with 1 Axes>"
            ],
            "image/png": "[encoded data removed]"
          },
          "metadata": {
            "needs_background": "light"
          }
        }
      ]
    },
    {
      "cell_type": "code",
      "source": [],
      "metadata": {
        "id": "6Q9Xmkj1qbmR"
      },
      "execution_count": null,
      "outputs": []
    },
    {
      "cell_type": "code",
      "source": [],
      "metadata": {
        "id": "QmHZrYCqTY7F"
      },
      "execution_count": null,
      "outputs": []
    }
  ]
}